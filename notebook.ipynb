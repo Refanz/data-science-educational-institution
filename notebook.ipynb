{
 "cells": [
  {
   "metadata": {},
   "cell_type": "markdown",
   "source": [
    "# Proyek Akhir: Menyelesaikan Permasalahan Institusi Pendidikan\n",
    "\n",
    "- Nama: Refanda Surya Saputra\n",
    "- Email: refandasuryasaputra@gmail.com\n",
    "- Dicoding ID: refanda_surya"
   ],
   "id": "5f854ce36fbb3896"
  },
  {
   "metadata": {},
   "cell_type": "markdown",
   "source": "## Persiapan",
   "id": "afab5bfec420b68"
  },
  {
   "metadata": {},
   "cell_type": "markdown",
   "source": "### Menyiapkan library yang dibutuhkan",
   "id": "32157dc301038d3c"
  },
  {
   "metadata": {},
   "cell_type": "code",
   "outputs": [],
   "execution_count": null,
   "source": [
    "from collections import Counter\n",
    "import pandas as pd\n",
    "import numpy as np\n",
    "import matplotlib.pyplot as plt\n",
    "import seaborn as sns\n",
    "import joblib"
   ],
   "id": "9736c37eb365a63c"
  },
  {
   "metadata": {},
   "cell_type": "markdown",
   "source": "### Menyiapkan data yang akan digunakan",
   "id": "988ba7e0fdb13b72"
  },
  {
   "metadata": {},
   "cell_type": "code",
   "outputs": [],
   "execution_count": null,
   "source": "",
   "id": "3239b34ee33382a"
  },
  {
   "metadata": {},
   "cell_type": "markdown",
   "source": "## Data Understanding",
   "id": "f7761b9187a6817d"
  },
  {
   "metadata": {},
   "cell_type": "code",
   "outputs": [],
   "execution_count": null,
   "source": "",
   "id": "97761dbcac2939e2"
  },
  {
   "metadata": {},
   "cell_type": "markdown",
   "source": "## Data Preparation / Preprocessing",
   "id": "6381c32bf50a2c4e"
  },
  {
   "metadata": {},
   "cell_type": "code",
   "outputs": [],
   "execution_count": null,
   "source": "",
   "id": "44cbd9bd74e8c59f"
  },
  {
   "metadata": {},
   "cell_type": "markdown",
   "source": "## Modeling",
   "id": "fbf3f503b317cd07"
  },
  {
   "metadata": {},
   "cell_type": "code",
   "outputs": [],
   "execution_count": null,
   "source": "",
   "id": "e324d3dbd7663bf5"
  },
  {
   "metadata": {},
   "cell_type": "markdown",
   "source": "## Evaluating Model",
   "id": "ef165ef7ce52d2bc"
  },
  {
   "metadata": {},
   "cell_type": "code",
   "outputs": [],
   "execution_count": null,
   "source": "",
   "id": "1539286b2af81f3e"
  },
  {
   "metadata": {},
   "cell_type": "code",
   "outputs": [],
   "execution_count": null,
   "source": "",
   "id": "29d5c93a913bfd13"
  },
  {
   "metadata": {},
   "cell_type": "code",
   "outputs": [],
   "execution_count": null,
   "source": "",
   "id": "ac800a0ebefdc2c1"
  },
  {
   "metadata": {},
   "cell_type": "markdown",
   "source": "## Hyperparameter Tuning",
   "id": "6c9c4f4d452ffc92"
  },
  {
   "metadata": {},
   "cell_type": "code",
   "outputs": [],
   "execution_count": null,
   "source": "",
   "id": "bfb81fbfcdd45107"
  },
  {
   "metadata": {},
   "cell_type": "code",
   "outputs": [],
   "execution_count": null,
   "source": "",
   "id": "eac38bb4473b3ebb"
  },
  {
   "metadata": {},
   "cell_type": "markdown",
   "source": "## Evaluation Model Tuning",
   "id": "f6eb0485951ea164"
  },
  {
   "metadata": {},
   "cell_type": "code",
   "outputs": [],
   "execution_count": null,
   "source": "",
   "id": "e44b21adec286fad"
  },
  {
   "metadata": {},
   "cell_type": "code",
   "outputs": [],
   "execution_count": null,
   "source": "",
   "id": "bad6d303613e7caf"
  },
  {
   "metadata": {},
   "cell_type": "markdown",
   "source": "## Save Artifact",
   "id": "46f81e14e96fca5e"
  },
  {
   "metadata": {},
   "cell_type": "code",
   "outputs": [],
   "execution_count": null,
   "source": "",
   "id": "989393754b3d6383"
  }
 ],
 "metadata": {
  "kernelspec": {
   "display_name": "Python 3",
   "language": "python",
   "name": "python3"
  },
  "language_info": {
   "codemirror_mode": {
    "name": "ipython",
    "version": 2
   },
   "file_extension": ".py",
   "mimetype": "text/x-python",
   "name": "python",
   "nbconvert_exporter": "python",
   "pygments_lexer": "ipython2",
   "version": "2.7.6"
  }
 },
 "nbformat": 4,
 "nbformat_minor": 5
}
